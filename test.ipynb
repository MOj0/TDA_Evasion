{
 "cells": [
  {
   "cell_type": "code",
   "execution_count": 2,
   "metadata": {},
   "outputs": [
    {
     "ename": "AttributeError",
     "evalue": "'gudhi.cubical_complex.CubicalComplex' object has no attribute 'minimal_non_separating_cycle'",
     "output_type": "error",
     "traceback": [
      "\u001b[1;31m---------------------------------------------------------------------------\u001b[0m",
      "\u001b[1;31mAttributeError\u001b[0m                            Traceback (most recent call last)",
      "Cell \u001b[1;32mIn[2], line 12\u001b[0m\n\u001b[0;32m      9\u001b[0m persistence \u001b[38;5;241m=\u001b[39m cc\u001b[38;5;241m.\u001b[39mpersistence()\n\u001b[0;32m     11\u001b[0m \u001b[38;5;66;03m# Get minimal cycles\u001b[39;00m\n\u001b[1;32m---> 12\u001b[0m min_cycles \u001b[38;5;241m=\u001b[39m [\u001b[43mcc\u001b[49m\u001b[38;5;241;43m.\u001b[39;49m\u001b[43mminimal_non_separating_cycle\u001b[49m(i) \u001b[38;5;28;01mfor\u001b[39;00m i \u001b[38;5;129;01min\u001b[39;00m \u001b[38;5;28mrange\u001b[39m(\u001b[38;5;28mlen\u001b[39m(persistence)) ]\u001b[38;5;66;03m#if persistence[i][0] == 1]\u001b[39;00m\n\u001b[0;32m     14\u001b[0m \u001b[38;5;28mprint\u001b[39m(min_cycles)\n",
      "\u001b[1;31mAttributeError\u001b[0m: 'gudhi.cubical_complex.CubicalComplex' object has no attribute 'minimal_non_separating_cycle'"
     ]
    }
   ],
   "source": [
    "import numpy as np\n",
    "import gudhi as gd\n",
    "\n",
    "# Create a cubical complex\n",
    "bitmap = np.array([[0, 1, 2], [3, 4, 5], [6, 7, 8]], dtype=np.float32)\n",
    "cc = gd.CubicalComplex(top_dimensional_cells=bitmap)\n",
    "\n",
    "# Compute persistence\n",
    "persistence = cc.persistence()\n",
    "\n",
    "# Get minimal cycles\n",
    "min_cycles = [cc.minimal_non_separating_cycle(i) for i in range(len(persistence)) ]#if persistence[i][0] == 1]\n",
    "\n",
    "print(min_cycles)"
   ]
  }
 ],
 "metadata": {
  "kernelspec": {
   "display_name": "Python 3",
   "language": "python",
   "name": "python3"
  },
  "language_info": {
   "codemirror_mode": {
    "name": "ipython",
    "version": 3
   },
   "file_extension": ".py",
   "mimetype": "text/x-python",
   "name": "python",
   "nbconvert_exporter": "python",
   "pygments_lexer": "ipython3",
   "version": "3.12.0"
  }
 },
 "nbformat": 4,
 "nbformat_minor": 2
}
